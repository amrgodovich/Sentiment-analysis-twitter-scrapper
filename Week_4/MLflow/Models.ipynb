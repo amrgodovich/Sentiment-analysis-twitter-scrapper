{
 "cells": [
  {
   "cell_type": "code",
   "execution_count": 3,
   "metadata": {},
   "outputs": [],
   "source": [
    "import pandas as pd\n",
    "import numpy as np\n",
    "from sklearn.model_selection import train_test_split\n",
    "from sklearn.linear_model import LogisticRegression\n",
    "from sklearn.metrics import accuracy_score, classification_report\n",
    "import mlflow\n",
    "import mlflow.tensorflow\n",
    "import mlflow\n",
    "import mlflow.sklearn\n",
    "from sklearn.linear_model import LogisticRegression\n",
    "from sklearn.metrics import accuracy_score, confusion_matrix\n",
    "import seaborn as sns\n",
    "import matplotlib.pyplot as plt\n",
    "from xgboost import XGBClassifier\n",
    "from sklearn.svm import SVC\n",
    "\n",
    "from tensorflow.keras.models import Sequential\n",
    "from tensorflow.keras.layers import Dense, Dropout\n",
    "from tensorflow.keras.layers import LeakyReLU\n",
    "from tensorflow.keras.layers import  BatchNormalization\n",
    "from tensorflow.keras.optimizers import Adam\n",
    "from tensorflow.keras.callbacks import EarlyStopping, ReduceLROnPlateau\n",
    "from tensorflow.keras import regularizers\n",
    "\n",
    "from keras.preprocessing.text import Tokenizer\n",
    "from keras.preprocessing.sequence import pad_sequences\n",
    "import pickle\n",
    "import keras.backend as K\n",
    "from sklearn.model_selection import train_test_split\n",
    "\n",
    "import tensorflow as tf\n",
    "from keras.models import Sequential\n",
    "from keras.layers import Embedding, Conv1D, MaxPooling1D, Bidirectional, LSTM, Dense, Dropout\n",
    "from keras.metrics import Precision, Recall\n",
    "from keras.optimizers import SGD\n",
    "from keras import datasets\n",
    "\n",
    "from keras.callbacks import LearningRateScheduler\n",
    "from keras.callbacks import History\n",
    "from tensorflow.keras.optimizers.legacy import SGD\n",
    "\n",
    "from keras import losses\n"
   ]
  },
  {
   "cell_type": "markdown",
   "metadata": {},
   "source": [
    "## MLflow"
   ]
  },
  {
   "cell_type": "markdown",
   "metadata": {},
   "source": [
    "mlflow ui ~cmd"
   ]
  },
  {
   "cell_type": "code",
   "execution_count": 4,
   "metadata": {},
   "outputs": [],
   "source": [
    "mlflow.tensorflow.autolog()\n",
    "mlflow.set_tracking_uri('http://localhost:5000')"
   ]
  },
  {
   "cell_type": "code",
   "execution_count": 5,
   "metadata": {},
   "outputs": [
    {
     "data": {
      "text/plain": [
       "<Experiment: artifact_location='mlflow-artifacts:/0', creation_time=1729029343950, experiment_id='0', last_update_time=1729033419636, lifecycle_stage='active', name='Sentiment_analysis_DEPI', tags={}>"
      ]
     },
     "execution_count": 5,
     "metadata": {},
     "output_type": "execute_result"
    }
   ],
   "source": [
    "mlflow.set_experiment(\"Sentiment_analysis_DEPI\")"
   ]
  },
  {
   "cell_type": "code",
   "execution_count": 6,
   "metadata": {},
   "outputs": [
    {
     "data": {
      "text/html": [
       "<div>\n",
       "<style scoped>\n",
       "    .dataframe tbody tr th:only-of-type {\n",
       "        vertical-align: middle;\n",
       "    }\n",
       "\n",
       "    .dataframe tbody tr th {\n",
       "        vertical-align: top;\n",
       "    }\n",
       "\n",
       "    .dataframe thead th {\n",
       "        text-align: right;\n",
       "    }\n",
       "</style>\n",
       "<table border=\"1\" class=\"dataframe\">\n",
       "  <thead>\n",
       "    <tr style=\"text-align: right;\">\n",
       "      <th></th>\n",
       "      <th>run_id</th>\n",
       "      <th>experiment_id</th>\n",
       "      <th>status</th>\n",
       "      <th>artifact_uri</th>\n",
       "      <th>start_time</th>\n",
       "      <th>end_time</th>\n",
       "      <th>metrics.validation_accuracy</th>\n",
       "      <th>metrics.validation_loss</th>\n",
       "      <th>metrics.val_loss</th>\n",
       "      <th>metrics.test_accuracy</th>\n",
       "      <th>...</th>\n",
       "      <th>params.dataset</th>\n",
       "      <th>params.kernel</th>\n",
       "      <th>params.eval_metric</th>\n",
       "      <th>params.max_iter</th>\n",
       "      <th>tags.mlflow.log-model.history</th>\n",
       "      <th>tags.mlflow.source.type</th>\n",
       "      <th>tags.mlflow.user</th>\n",
       "      <th>tags.mlflow.source.name</th>\n",
       "      <th>tags.mlflow.latest_checkpoint_artifact</th>\n",
       "      <th>tags.mlflow.runName</th>\n",
       "    </tr>\n",
       "  </thead>\n",
       "  <tbody>\n",
       "    <tr>\n",
       "      <th>0</th>\n",
       "      <td>b8363f80b14d4d8ea0116b4c3c1e461a</td>\n",
       "      <td>0</td>\n",
       "      <td>FINISHED</td>\n",
       "      <td>mlflow-artifacts:/0/b8363f80b14d4d8ea0116b4c3c...</td>\n",
       "      <td>2024-10-16 00:39:12.352000+00:00</td>\n",
       "      <td>2024-10-16 00:41:39.112000+00:00</td>\n",
       "      <td>0.955735</td>\n",
       "      <td>0.260119</td>\n",
       "      <td>0.258787</td>\n",
       "      <td>0.957520</td>\n",
       "      <td>...</td>\n",
       "      <td>None</td>\n",
       "      <td>None</td>\n",
       "      <td>None</td>\n",
       "      <td>None</td>\n",
       "      <td>[{\"run_id\": \"b8363f80b14d4d8ea0116b4c3c1e461a\"...</td>\n",
       "      <td>LOCAL</td>\n",
       "      <td>pc</td>\n",
       "      <td>f:\\Anaconda\\envs\\main\\lib\\site-packages\\ipyker...</td>\n",
       "      <td>checkpoints/latest_checkpoint.h5</td>\n",
       "      <td>Neural Network 2</td>\n",
       "    </tr>\n",
       "    <tr>\n",
       "      <th>1</th>\n",
       "      <td>fbd8d80ce1514764b6301ee1058a5e74</td>\n",
       "      <td>0</td>\n",
       "      <td>FINISHED</td>\n",
       "      <td>mlflow-artifacts:/0/fbd8d80ce1514764b6301ee105...</td>\n",
       "      <td>2024-10-16 00:37:51.540000+00:00</td>\n",
       "      <td>2024-10-16 00:39:12.207000+00:00</td>\n",
       "      <td>0.954579</td>\n",
       "      <td>0.180582</td>\n",
       "      <td>0.180582</td>\n",
       "      <td>0.955165</td>\n",
       "      <td>...</td>\n",
       "      <td>Twitter_ds</td>\n",
       "      <td>None</td>\n",
       "      <td>None</td>\n",
       "      <td>None</td>\n",
       "      <td>[{\"run_id\": \"fbd8d80ce1514764b6301ee1058a5e74\"...</td>\n",
       "      <td>LOCAL</td>\n",
       "      <td>pc</td>\n",
       "      <td>f:\\Anaconda\\envs\\main\\lib\\site-packages\\ipyker...</td>\n",
       "      <td>checkpoints/latest_checkpoint.h5</td>\n",
       "      <td>Neural Network 1</td>\n",
       "    </tr>\n",
       "    <tr>\n",
       "      <th>2</th>\n",
       "      <td>f851912880984195a3d1bfeebb2004de</td>\n",
       "      <td>0</td>\n",
       "      <td>FINISHED</td>\n",
       "      <td>mlflow-artifacts:/0/f851912880984195a3d1bfeebb...</td>\n",
       "      <td>2024-10-16 00:24:26.622000+00:00</td>\n",
       "      <td>2024-10-16 00:26:55.026000+00:00</td>\n",
       "      <td>NaN</td>\n",
       "      <td>NaN</td>\n",
       "      <td>NaN</td>\n",
       "      <td>0.944398</td>\n",
       "      <td>...</td>\n",
       "      <td>Twitter_ds</td>\n",
       "      <td>linear</td>\n",
       "      <td>None</td>\n",
       "      <td>None</td>\n",
       "      <td>[{\"run_id\": \"f851912880984195a3d1bfeebb2004de\"...</td>\n",
       "      <td>LOCAL</td>\n",
       "      <td>pc</td>\n",
       "      <td>f:\\Anaconda\\envs\\main\\lib\\site-packages\\ipyker...</td>\n",
       "      <td>None</td>\n",
       "      <td>SVM Classifier Run</td>\n",
       "    </tr>\n",
       "    <tr>\n",
       "      <th>3</th>\n",
       "      <td>19dea04e6a424d919702620f6840e6db</td>\n",
       "      <td>0</td>\n",
       "      <td>FINISHED</td>\n",
       "      <td>mlflow-artifacts:/0/19dea04e6a424d919702620f68...</td>\n",
       "      <td>2024-10-16 00:21:23.393000+00:00</td>\n",
       "      <td>2024-10-16 00:21:36.868000+00:00</td>\n",
       "      <td>NaN</td>\n",
       "      <td>NaN</td>\n",
       "      <td>NaN</td>\n",
       "      <td>0.947005</td>\n",
       "      <td>...</td>\n",
       "      <td>Twitter_ds</td>\n",
       "      <td>None</td>\n",
       "      <td>logloss</td>\n",
       "      <td>None</td>\n",
       "      <td>[{\"run_id\": \"19dea04e6a424d919702620f6840e6db\"...</td>\n",
       "      <td>LOCAL</td>\n",
       "      <td>pc</td>\n",
       "      <td>f:\\Anaconda\\envs\\main\\lib\\site-packages\\ipyker...</td>\n",
       "      <td>None</td>\n",
       "      <td>XGBoost Classifier Run</td>\n",
       "    </tr>\n",
       "    <tr>\n",
       "      <th>4</th>\n",
       "      <td>fe880411f15544138cfe09a952fbc931</td>\n",
       "      <td>0</td>\n",
       "      <td>FINISHED</td>\n",
       "      <td>mlflow-artifacts:/0/fe880411f15544138cfe09a952...</td>\n",
       "      <td>2024-10-15 23:59:17.031000+00:00</td>\n",
       "      <td>2024-10-15 23:59:21.172000+00:00</td>\n",
       "      <td>NaN</td>\n",
       "      <td>NaN</td>\n",
       "      <td>NaN</td>\n",
       "      <td>0.944734</td>\n",
       "      <td>...</td>\n",
       "      <td>Twitter_ds</td>\n",
       "      <td>None</td>\n",
       "      <td>None</td>\n",
       "      <td>1000</td>\n",
       "      <td>[{\"run_id\": \"fe880411f15544138cfe09a952fbc931\"...</td>\n",
       "      <td>LOCAL</td>\n",
       "      <td>pc</td>\n",
       "      <td>f:\\Anaconda\\envs\\main\\lib\\site-packages\\ipyker...</td>\n",
       "      <td>None</td>\n",
       "      <td>Logistic Regression Run</td>\n",
       "    </tr>\n",
       "  </tbody>\n",
       "</table>\n",
       "<p>5 rows × 64 columns</p>\n",
       "</div>"
      ],
      "text/plain": [
       "                             run_id experiment_id    status  \\\n",
       "0  b8363f80b14d4d8ea0116b4c3c1e461a             0  FINISHED   \n",
       "1  fbd8d80ce1514764b6301ee1058a5e74             0  FINISHED   \n",
       "2  f851912880984195a3d1bfeebb2004de             0  FINISHED   \n",
       "3  19dea04e6a424d919702620f6840e6db             0  FINISHED   \n",
       "4  fe880411f15544138cfe09a952fbc931             0  FINISHED   \n",
       "\n",
       "                                        artifact_uri  \\\n",
       "0  mlflow-artifacts:/0/b8363f80b14d4d8ea0116b4c3c...   \n",
       "1  mlflow-artifacts:/0/fbd8d80ce1514764b6301ee105...   \n",
       "2  mlflow-artifacts:/0/f851912880984195a3d1bfeebb...   \n",
       "3  mlflow-artifacts:/0/19dea04e6a424d919702620f68...   \n",
       "4  mlflow-artifacts:/0/fe880411f15544138cfe09a952...   \n",
       "\n",
       "                        start_time                         end_time  \\\n",
       "0 2024-10-16 00:39:12.352000+00:00 2024-10-16 00:41:39.112000+00:00   \n",
       "1 2024-10-16 00:37:51.540000+00:00 2024-10-16 00:39:12.207000+00:00   \n",
       "2 2024-10-16 00:24:26.622000+00:00 2024-10-16 00:26:55.026000+00:00   \n",
       "3 2024-10-16 00:21:23.393000+00:00 2024-10-16 00:21:36.868000+00:00   \n",
       "4 2024-10-15 23:59:17.031000+00:00 2024-10-15 23:59:21.172000+00:00   \n",
       "\n",
       "   metrics.validation_accuracy  metrics.validation_loss  metrics.val_loss  \\\n",
       "0                     0.955735                 0.260119          0.258787   \n",
       "1                     0.954579                 0.180582          0.180582   \n",
       "2                          NaN                      NaN               NaN   \n",
       "3                          NaN                      NaN               NaN   \n",
       "4                          NaN                      NaN               NaN   \n",
       "\n",
       "   metrics.test_accuracy  ...  params.dataset  params.kernel  \\\n",
       "0               0.957520  ...            None           None   \n",
       "1               0.955165  ...      Twitter_ds           None   \n",
       "2               0.944398  ...      Twitter_ds         linear   \n",
       "3               0.947005  ...      Twitter_ds           None   \n",
       "4               0.944734  ...      Twitter_ds           None   \n",
       "\n",
       "   params.eval_metric  params.max_iter  \\\n",
       "0                None             None   \n",
       "1                None             None   \n",
       "2                None             None   \n",
       "3             logloss             None   \n",
       "4                None             1000   \n",
       "\n",
       "                       tags.mlflow.log-model.history  tags.mlflow.source.type  \\\n",
       "0  [{\"run_id\": \"b8363f80b14d4d8ea0116b4c3c1e461a\"...                    LOCAL   \n",
       "1  [{\"run_id\": \"fbd8d80ce1514764b6301ee1058a5e74\"...                    LOCAL   \n",
       "2  [{\"run_id\": \"f851912880984195a3d1bfeebb2004de\"...                    LOCAL   \n",
       "3  [{\"run_id\": \"19dea04e6a424d919702620f6840e6db\"...                    LOCAL   \n",
       "4  [{\"run_id\": \"fe880411f15544138cfe09a952fbc931\"...                    LOCAL   \n",
       "\n",
       "   tags.mlflow.user                            tags.mlflow.source.name  \\\n",
       "0                pc  f:\\Anaconda\\envs\\main\\lib\\site-packages\\ipyker...   \n",
       "1                pc  f:\\Anaconda\\envs\\main\\lib\\site-packages\\ipyker...   \n",
       "2                pc  f:\\Anaconda\\envs\\main\\lib\\site-packages\\ipyker...   \n",
       "3                pc  f:\\Anaconda\\envs\\main\\lib\\site-packages\\ipyker...   \n",
       "4                pc  f:\\Anaconda\\envs\\main\\lib\\site-packages\\ipyker...   \n",
       "\n",
       "  tags.mlflow.latest_checkpoint_artifact      tags.mlflow.runName  \n",
       "0       checkpoints/latest_checkpoint.h5         Neural Network 2  \n",
       "1       checkpoints/latest_checkpoint.h5         Neural Network 1  \n",
       "2                                   None       SVM Classifier Run  \n",
       "3                                   None   XGBoost Classifier Run  \n",
       "4                                   None  Logistic Regression Run  \n",
       "\n",
       "[5 rows x 64 columns]"
      ]
     },
     "execution_count": 6,
     "metadata": {},
     "output_type": "execute_result"
    }
   ],
   "source": [
    "runs_df = mlflow.search_runs()\n",
    "runs_df"
   ]
  },
  {
   "cell_type": "markdown",
   "metadata": {},
   "source": [
    "## Inputs"
   ]
  },
  {
   "cell_type": "code",
   "execution_count": 2,
   "metadata": {},
   "outputs": [],
   "source": [
    "embedding_df_bert=pd.read_csv('datasets/second_comb/bert_embeddings.csv')\n",
    "label=pd.read_csv('datasets/second_comb/label.csv')"
   ]
  },
  {
   "cell_type": "code",
   "execution_count": 3,
   "metadata": {},
   "outputs": [],
   "source": [
    "x=embedding_df_bert.values\n",
    "y=label['label']"
   ]
  },
  {
   "cell_type": "code",
   "execution_count": 4,
   "metadata": {},
   "outputs": [],
   "source": [
    "X_train, X_test, y_train, y_test = train_test_split(x, y, test_size=0.2, random_state=42, stratify=y)"
   ]
  },
  {
   "cell_type": "code",
   "execution_count": 5,
   "metadata": {},
   "outputs": [
    {
     "name": "stdout",
     "output_type": "stream",
     "text": [
      "(47552, 384)\n",
      "(47552,)\n"
     ]
    }
   ],
   "source": [
    "print(X_train.shape)\n",
    "print(y_train.shape)"
   ]
  },
  {
   "cell_type": "markdown",
   "metadata": {},
   "source": [
    "# Models"
   ]
  },
  {
   "cell_type": "code",
   "execution_count": 14,
   "metadata": {},
   "outputs": [],
   "source": [
    "dataset_name='Twitter_ds'"
   ]
  },
  {
   "cell_type": "markdown",
   "metadata": {},
   "source": [
    "## Logistic Regression"
   ]
  },
  {
   "cell_type": "markdown",
   "metadata": {},
   "source": [
    "run_id='fe880411f15544138cfe09a952fbc931'"
   ]
  },
  {
   "cell_type": "code",
   "execution_count": 16,
   "metadata": {},
   "outputs": [
    {
     "name": "stdout",
     "output_type": "stream",
     "text": [
      "Accuracy Train : 0.9441\n",
      "Accuracy Test : 0.9447\n"
     ]
    },
    {
     "name": "stderr",
     "output_type": "stream",
     "text": [
      "2024/10/16 02:59:20 WARNING mlflow.models.model: Model logged without a signature and input example. Please set `input_example` parameter when logging the model to auto infer the model signature.\n",
      "2024/10/16 02:59:21 INFO mlflow.tracking._tracking_service.client: 🏃 View run Logistic Regression Run at: http://localhost:5000/#/experiments/0/runs/fe880411f15544138cfe09a952fbc931.\n",
      "2024/10/16 02:59:21 INFO mlflow.tracking._tracking_service.client: 🧪 View experiment at: http://localhost:5000/#/experiments/0.\n"
     ]
    },
    {
     "name": "stdout",
     "output_type": "stream",
     "text": [
      "Run completed and logged to MLflow.\n"
     ]
    },
    {
     "data": {
      "image/png": "[encoded data removed]",
      "text/plain": [
       "<Figure size 800x600 with 1 Axes>"
      ]
     },
     "metadata": {},
     "output_type": "display_data"
    }
   ],
   "source": [
    "with mlflow.start_run(run_name=\"Logistic Regression Run\"):\n",
    "    model_lr = LogisticRegression(max_iter=1000)\n",
    "    model_lr.fit(X_train, y_train)\n",
    "    \n",
    "    y_pred_tr_lr = model_lr.predict(X_train)\n",
    "    y_pred_ts_lr = model_lr.predict(X_test)\n",
    "    \n",
    "    accuracy_train_lr = accuracy_score(y_train, y_pred_tr_lr)\n",
    "    accuracy_test_lr = accuracy_score(y_test, y_pred_ts_lr)\n",
    "    \n",
    "    mlflow.log_param(\"model_type\", \"Logistic Regression\")\n",
    "    mlflow.log_param(\"max_iter\", 1000)\n",
    "    mlflow.log_param(\"dataset\", dataset_name)\n",
    "    \n",
    "    mlflow.log_metric(\"train_accuracy\", accuracy_train_lr)\n",
    "    mlflow.log_metric(\"test_accuracy\", accuracy_test_lr)\n",
    "    \n",
    "    print(f\"Accuracy Train : {accuracy_train_lr:.4f}\")\n",
    "    print(f\"Accuracy Test : {accuracy_test_lr:.4f}\")\n",
    "    \n",
    "    mlflow.sklearn.log_model(model_lr, \"logistic_regression_model\")\n",
    "    \n",
    "    conf_matrix = confusion_matrix(y_test, y_pred_ts_lr)\n",
    "    plt.figure(figsize=(8, 6))\n",
    "    sns.heatmap(conf_matrix, annot=True, fmt='d', cmap='Blues', cbar=False, xticklabels=['Negative', 'Positive'], yticklabels=['Negative', 'Positive'])\n",
    "    plt.title('Confusion Matrix')\n",
    "    plt.xlabel('Predicted Label')\n",
    "    plt.ylabel('True Label')\n",
    "    plt.savefig(\"models/Log_Reg/confusion_matrix_lr.png\")  # Save the plot locally\n",
    "    \n",
    "    mlflow.log_artifact(\"models/Log_Reg/confusion_matrix_lr.png\")\n",
    "    \n",
    "    mlflow.end_run()\n",
    "\n",
    "print(\"Run completed and logged to MLflow.\")"
   ]
  },
  {
   "cell_type": "markdown",
   "metadata": {},
   "source": [
    "## XGB\n",
    "19dea04e6a424d919702620f6840e6db"
   ]
  },
  {
   "cell_type": "code",
   "execution_count": 26,
   "metadata": {},
   "outputs": [
    {
     "name": "stderr",
     "output_type": "stream",
     "text": [
      "f:\\Anaconda\\envs\\main\\lib\\site-packages\\xgboost\\core.py:158: UserWarning: [03:21:26] WARNING: C:\\buildkite-agent\\builds\\buildkite-windows-cpu-autoscaling-group-i-0015a694724fa8361-1\\xgboost\\xgboost-ci-windows\\src\\learner.cc:740: \n",
      "Parameters: { \"use_label_encoder\" } are not used.\n",
      "\n",
      "  warnings.warn(smsg, UserWarning)\n"
     ]
    },
    {
     "name": "stdout",
     "output_type": "stream",
     "text": [
      "Accuracy Train : 0.9994\n",
      "Accuracy Test : 0.9470\n"
     ]
    },
    {
     "name": "stderr",
     "output_type": "stream",
     "text": [
      "f:\\Anaconda\\envs\\main\\lib\\site-packages\\xgboost\\core.py:158: UserWarning: [03:21:32] WARNING: C:\\buildkite-agent\\builds\\buildkite-windows-cpu-autoscaling-group-i-0015a694724fa8361-1\\xgboost\\xgboost-ci-windows\\src\\c_api\\c_api.cc:1374: Saving model in the UBJSON format as default.  You can use file extension: `json`, `ubj` or `deprecated` to choose between formats.\n",
      "  warnings.warn(smsg, UserWarning)\n",
      "2024/10/16 03:21:36 WARNING mlflow.models.model: Model logged without a signature and input example. Please set `input_example` parameter when logging the model to auto infer the model signature.\n",
      "2024/10/16 03:21:36 INFO mlflow.tracking._tracking_service.client: 🏃 View run XGBoost Classifier Run at: http://localhost:5000/#/experiments/0/runs/19dea04e6a424d919702620f6840e6db.\n",
      "2024/10/16 03:21:36 INFO mlflow.tracking._tracking_service.client: 🧪 View experiment at: http://localhost:5000/#/experiments/0.\n"
     ]
    },
    {
     "name": "stdout",
     "output_type": "stream",
     "text": [
      "Run completed and logged to MLflow.\n"
     ]
    },
    {
     "data": {
      "image/png": "[encoded data removed]",
      "text/plain": [
       "<Figure size 800x600 with 1 Axes>"
      ]
     },
     "metadata": {},
     "output_type": "display_data"
    }
   ],
   "source": [
    "with mlflow.start_run(run_name=\"XGBoost Classifier Run\"):\n",
    "    xgb_clf = XGBClassifier(use_label_encoder=False, eval_metric='logloss')\n",
    "    xgb_clf.fit(X_train, y_train)\n",
    "    \n",
    "    y_pred_tr = xgb_clf.predict(X_train)\n",
    "    y_pred_ts = xgb_clf.predict(X_test)\n",
    "    \n",
    "    # Evaluate the model\n",
    "    accuracy_train = accuracy_score(y_train, y_pred_tr)\n",
    "    accuracy_test = accuracy_score(y_test, y_pred_ts)\n",
    "    \n",
    "    mlflow.log_param(\"model_type\", \"XGBoost Classifier\")\n",
    "    mlflow.log_param(\"eval_metric\", 'logloss')\n",
    "    mlflow.log_param(\"dataset\", dataset_name)\n",
    "    \n",
    "    mlflow.log_metric(\"train_accuracy\", accuracy_train)\n",
    "    mlflow.log_metric(\"test_accuracy\", accuracy_test)\n",
    "    \n",
    "    print(f\"Accuracy Train : {accuracy_train:.4f}\")\n",
    "    print(f\"Accuracy Test : {accuracy_test:.4f}\")\n",
    "    \n",
    "    mlflow.xgboost.log_model(xgb_clf, \"xgboost_classifier_model\")\n",
    "    \n",
    "    conf_matrix = confusion_matrix(y_test, y_pred_ts)\n",
    "    plt.figure(figsize=(8, 6))\n",
    "    sns.heatmap(conf_matrix, annot=True, fmt='d', cmap='Blues', cbar=False, xticklabels=['Negative', 'Positive'], yticklabels=['Negative', 'Positive'])\n",
    "    plt.title('Confusion Matrix')\n",
    "    plt.xlabel('Predicted Label')\n",
    "    plt.ylabel('True Label')\n",
    "    plt.savefig(\"models/xgb/confusion_matrix_xgb.png\")  # Save the plot locally\n",
    "    \n",
    "    mlflow.log_artifact(\"models/xgb/confusion_matrix_xgb.png\")\n",
    "    \n",
    "    mlflow.end_run()\n",
    "\n",
    "print(\"Run completed and logged to MLflow.\")"
   ]
  },
  {
   "cell_type": "markdown",
   "metadata": {},
   "source": [
    "## Support Vector Machine\n",
    "f851912880984195a3d1bfeebb2004de"
   ]
  },
  {
   "cell_type": "code",
   "execution_count": 28,
   "metadata": {},
   "outputs": [
    {
     "name": "stdout",
     "output_type": "stream",
     "text": [
      "Accuracy Train : 0.9461\n",
      "Accuracy Test : 0.9444\n"
     ]
    },
    {
     "name": "stderr",
     "output_type": "stream",
     "text": [
      "2024/10/16 03:26:54 WARNING mlflow.models.model: Model logged without a signature and input example. Please set `input_example` parameter when logging the model to auto infer the model signature.\n",
      "2024/10/16 03:26:55 INFO mlflow.tracking._tracking_service.client: 🏃 View run SVM Classifier Run at: http://localhost:5000/#/experiments/0/runs/f851912880984195a3d1bfeebb2004de.\n",
      "2024/10/16 03:26:55 INFO mlflow.tracking._tracking_service.client: 🧪 View experiment at: http://localhost:5000/#/experiments/0.\n"
     ]
    },
    {
     "name": "stdout",
     "output_type": "stream",
     "text": [
      "Run completed and logged to MLflow.\n"
     ]
    },
    {
     "data": {
      "image/png": "[encoded data removed]",
      "text/plain": [
       "<Figure size 800x600 with 1 Axes>"
      ]
     },
     "metadata": {},
     "output_type": "display_data"
    }
   ],
   "source": [
    "with mlflow.start_run(run_name=\"SVM Classifier Run\"):\n",
    "    svm_model = SVC(kernel='linear')\n",
    "    svm_model.fit(X_train, y_train)\n",
    "    \n",
    "    y_pred_tr = svm_model.predict(X_train)\n",
    "    y_pred_ts = svm_model.predict(X_test)\n",
    "    \n",
    "    accuracy_train = accuracy_score(y_train, y_pred_tr)\n",
    "    accuracy_test = accuracy_score(y_test, y_pred_ts)\n",
    "    \n",
    "    mlflow.log_param(\"model_type\", \"SVM Classifier\")\n",
    "    mlflow.log_param(\"kernel\", \"linear\")\n",
    "    mlflow.log_param(\"dataset\", dataset_name)\n",
    "    \n",
    "    mlflow.log_metric(\"train_accuracy\", accuracy_train)\n",
    "    mlflow.log_metric(\"test_accuracy\", accuracy_test)\n",
    "    \n",
    "    print(f\"Accuracy Train : {accuracy_train:.4f}\")\n",
    "    print(f\"Accuracy Test : {accuracy_test:.4f}\")\n",
    "    \n",
    "    mlflow.sklearn.log_model(svm_model, \"svm_classifier_model\")\n",
    "    \n",
    "    conf_matrix = confusion_matrix(y_test, y_pred_ts)\n",
    "    plt.figure(figsize=(8, 6))\n",
    "    sns.heatmap(conf_matrix, annot=True, fmt='d', cmap='Blues', cbar=False, xticklabels=['Negative', 'Positive'], yticklabels=['Negative', 'Positive'])\n",
    "    plt.title('Confusion Matrix')\n",
    "    plt.xlabel('Predicted Label')\n",
    "    plt.ylabel('True Label')\n",
    "    plt.savefig(\"models/svm/confusion_matrix_svm.png\")  # Save the plot locally\n",
    "    \n",
    "    mlflow.log_artifact(\"models/svm/confusion_matrix_svm.png\")\n",
    "    \n",
    "    mlflow.end_run()\n",
    "\n",
    "print(\"Run completed and logged to MLflow.\")"
   ]
  },
  {
   "cell_type": "markdown",
   "metadata": {},
   "source": [
    "## NN1"
   ]
  },
  {
   "cell_type": "code",
   "execution_count": 30,
   "metadata": {},
   "outputs": [
    {
     "name": "stderr",
     "output_type": "stream",
     "text": [
      "2024/10/16 03:37:55 WARNING mlflow.tensorflow: Failed to log training dataset information to MLflow Tracking. Reason: 'Series' object has no attribute 'flatten'\n"
     ]
    },
    {
     "name": "stdout",
     "output_type": "stream",
     "text": [
      "Epoch 1/10\n",
      "   1/1189 [..............................] - ETA: 34:44 - loss: 0.7005 - accuracy: 0.4062WARNING:tensorflow:Callback method `on_train_batch_end` is slow compared to the batch time (batch time: 0.0030s vs `on_train_batch_end` time: 0.0035s). Check your callbacks.\n",
      "1177/1189 [============================>.] - ETA: 0s - loss: 0.1608 - accuracy: 0.9370"
     ]
    },
    {
     "name": "stderr",
     "output_type": "stream",
     "text": [
      "f:\\Anaconda\\envs\\main\\lib\\site-packages\\keras\\src\\engine\\training.py:3000: UserWarning: You are saving your model as an HDF5 file via `model.save()`. This file format is considered legacy. We recommend using instead the native Keras format, e.g. `model.save('my_model.keras')`.\n",
      "  saving_api.save_model(\n"
     ]
    },
    {
     "name": "stdout",
     "output_type": "stream",
     "text": [
      "1189/1189 [==============================] - 9s 6ms/step - loss: 0.1607 - accuracy: 0.9370 - val_loss: 0.1290 - val_accuracy: 0.9492\n",
      "Epoch 2/10\n",
      "1189/1189 [==============================] - 5s 4ms/step - loss: 0.1190 - accuracy: 0.9540 - val_loss: 0.1211 - val_accuracy: 0.9531\n",
      "Epoch 3/10\n",
      "1189/1189 [==============================] - 5s 4ms/step - loss: 0.0996 - accuracy: 0.9620 - val_loss: 0.1180 - val_accuracy: 0.9539\n",
      "Epoch 4/10\n",
      "1189/1189 [==============================] - 5s 4ms/step - loss: 0.0809 - accuracy: 0.9697 - val_loss: 0.1205 - val_accuracy: 0.9518\n",
      "Epoch 5/10\n",
      "1189/1189 [==============================] - 5s 4ms/step - loss: 0.0655 - accuracy: 0.9763 - val_loss: 0.1246 - val_accuracy: 0.9539\n",
      "Epoch 6/10\n",
      "1189/1189 [==============================] - 5s 4ms/step - loss: 0.0513 - accuracy: 0.9818 - val_loss: 0.1367 - val_accuracy: 0.9541\n",
      "Epoch 7/10\n",
      "1189/1189 [==============================] - 5s 4ms/step - loss: 0.0410 - accuracy: 0.9854 - val_loss: 0.1533 - val_accuracy: 0.9525\n",
      "Epoch 8/10\n",
      "1189/1189 [==============================] - 5s 4ms/step - loss: 0.0346 - accuracy: 0.9869 - val_loss: 0.1597 - val_accuracy: 0.9525\n",
      "Epoch 9/10\n",
      "1189/1189 [==============================] - 5s 4ms/step - loss: 0.0302 - accuracy: 0.9898 - val_loss: 0.1864 - val_accuracy: 0.9522\n",
      "Epoch 10/10\n",
      "1189/1189 [==============================] - 5s 4ms/step - loss: 0.0281 - accuracy: 0.9902 - val_loss: 0.1806 - val_accuracy: 0.9546\n",
      "1/1 [==============================] - 0s 91ms/step\n",
      "INFO:tensorflow:Assets written to: C:\\Users\\pc\\AppData\\Local\\Temp\\tmpgo7cscmb\\model\\data\\model\\assets\n"
     ]
    },
    {
     "name": "stderr",
     "output_type": "stream",
     "text": [
      "INFO:tensorflow:Assets written to: C:\\Users\\pc\\AppData\\Local\\Temp\\tmpgo7cscmb\\model\\data\\model\\assets\n"
     ]
    },
    {
     "name": "stdout",
     "output_type": "stream",
     "text": [
      "1486/1486 [==============================] - 2s 1ms/step\n",
      "372/372 [==============================] - 1s 1ms/step\n"
     ]
    },
    {
     "name": "stderr",
     "output_type": "stream",
     "text": [
      "2024/10/16 03:39:05 WARNING mlflow.tensorflow: You are saving a TensorFlow Core model or Keras model without a signature. Inference with mlflow.pyfunc.spark_udf() will not work unless the model's pyfunc representation accepts pandas DataFrames as inference inputs.\n"
     ]
    },
    {
     "name": "stdout",
     "output_type": "stream",
     "text": [
      "Accuracy Train : 0.9893\n",
      "Accuracy Test : 0.9552\n",
      "INFO:tensorflow:Assets written to: C:\\Users\\pc\\AppData\\Local\\Temp\\tmpu8moen5t\\model\\data\\model\\assets\n"
     ]
    },
    {
     "name": "stderr",
     "output_type": "stream",
     "text": [
      "INFO:tensorflow:Assets written to: C:\\Users\\pc\\AppData\\Local\\Temp\\tmpu8moen5t\\model\\data\\model\\assets\n",
      "2024/10/16 03:39:11 WARNING mlflow.models.model: Model logged without a signature and input example. Please set `input_example` parameter when logging the model to auto infer the model signature.\n",
      "2024/10/16 03:39:12 INFO mlflow.tracking._tracking_service.client: 🏃 View run Neural Network 1 at: http://localhost:5000/#/experiments/0/runs/fbd8d80ce1514764b6301ee1058a5e74.\n",
      "2024/10/16 03:39:12 INFO mlflow.tracking._tracking_service.client: 🧪 View experiment at: http://localhost:5000/#/experiments/0.\n"
     ]
    },
    {
     "name": "stdout",
     "output_type": "stream",
     "text": [
      "Run completed and logged to MLflow.\n"
     ]
    },
    {
     "data": {
      "image/png": "[encoded data removed]",
      "text/plain": [
       "<Figure size 800x600 with 1 Axes>"
      ]
     },
     "metadata": {},
     "output_type": "display_data"
    }
   ],
   "source": [
    "with mlflow.start_run(run_name=\"Neural Network 1\"):\n",
    "    model = Sequential()\n",
    "    model.add(Dense(256, input_dim=X_train.shape[1], activation='relu'))  # Input layer\n",
    "    model.add(Dropout(0.3))\n",
    "    model.add(Dense(128, activation='relu'))\n",
    "    model.add(Dropout(0.3))\n",
    "    model.add(Dense(1, activation='sigmoid'))\n",
    "\n",
    "    model.compile(optimizer='adam', loss='binary_crossentropy', metrics=['accuracy'])\n",
    "\n",
    "    history = model.fit(X_train, y_train, epochs=10, batch_size=32, validation_split=0.2, verbose=1)\n",
    "\n",
    "    y_pred_tr = (model.predict(X_train) > 0.5).astype(\"int32\")\n",
    "    y_pred_ts = (model.predict(X_test) > 0.5).astype(\"int32\")\n",
    "\n",
    "    accuracy_train = accuracy_score(y_train, y_pred_tr)\n",
    "    accuracy_test = accuracy_score(y_test, y_pred_ts)\n",
    "\n",
    "    mlflow.log_param(\"model_type\", \"Neural Network Classifier\")\n",
    "    mlflow.log_param(\"optimizer\", \"adam\")\n",
    "    mlflow.log_param(\"epochs\", 10)\n",
    "    mlflow.log_param(\"dataset\", dataset_name)\n",
    "\n",
    "    mlflow.log_metric(\"train_accuracy\", accuracy_train)\n",
    "    mlflow.log_metric(\"test_accuracy\", accuracy_test)\n",
    "\n",
    "    print(f\"Accuracy Train : {accuracy_train:.4f}\")\n",
    "    print(f\"Accuracy Test : {accuracy_test:.4f}\")\n",
    "\n",
    "    mlflow.keras.log_model(model, \"neural_network_classifier_model\")\n",
    "\n",
    "    conf_matrix = confusion_matrix(y_test, y_pred_ts)\n",
    "    plt.figure(figsize=(8, 6))\n",
    "    sns.heatmap(conf_matrix, annot=True, fmt='d', cmap='Blues', cbar=False, xticklabels=['Negative', 'Positive'], yticklabels=['Negative', 'Positive'])\n",
    "    plt.title('Confusion Matrix')\n",
    "    plt.xlabel('Predicted Label')\n",
    "    plt.ylabel('True Label')\n",
    "    plt.savefig(\"models/NN1_model/confusion_matrix_nn.png\") \n",
    "\n",
    "    mlflow.log_artifact(\"models/NN1_model/confusion_matrix_nn.png\")\n",
    "\n",
    "    mlflow.end_run()\n",
    "\n",
    "print(\"Run completed and logged to MLflow.\")"
   ]
  },
  {
   "cell_type": "markdown",
   "metadata": {},
   "source": [
    "## NN2"
   ]
  },
  {
   "cell_type": "code",
   "execution_count": 31,
   "metadata": {},
   "outputs": [
    {
     "name": "stderr",
     "output_type": "stream",
     "text": [
      "2024/10/16 03:39:12 WARNING mlflow.tensorflow: Failed to log training dataset information to MLflow Tracking. Reason: 'Series' object has no attribute 'flatten'\n"
     ]
    },
    {
     "name": "stdout",
     "output_type": "stream",
     "text": [
      "Epoch 1/50\n",
      "1189/1189 [==============================] - 10s 7ms/step - loss: 0.6543 - accuracy: 0.9074 - val_loss: 0.5486 - val_accuracy: 0.9427 - lr: 1.0000e-04\n",
      "Epoch 2/50\n",
      "  20/1189 [..............................] - ETA: 6s - loss: 0.5332 - accuracy: 0.9406"
     ]
    },
    {
     "name": "stderr",
     "output_type": "stream",
     "text": [
      "f:\\Anaconda\\envs\\main\\lib\\site-packages\\keras\\src\\engine\\training.py:3000: UserWarning: You are saving your model as an HDF5 file via `model.save()`. This file format is considered legacy. We recommend using instead the native Keras format, e.g. `model.save('my_model.keras')`.\n",
      "  saving_api.save_model(\n"
     ]
    },
    {
     "name": "stdout",
     "output_type": "stream",
     "text": [
      "1189/1189 [==============================] - 7s 6ms/step - loss: 0.5570 - accuracy: 0.9329 - val_loss: 0.4980 - val_accuracy: 0.9484 - lr: 1.0000e-04\n",
      "Epoch 3/50\n",
      "1189/1189 [==============================] - 7s 6ms/step - loss: 0.5021 - accuracy: 0.9400 - val_loss: 0.4509 - val_accuracy: 0.9504 - lr: 1.0000e-04\n",
      "Epoch 4/50\n",
      "1189/1189 [==============================] - 7s 6ms/step - loss: 0.4506 - accuracy: 0.9433 - val_loss: 0.4111 - val_accuracy: 0.9514 - lr: 1.0000e-04\n",
      "Epoch 5/50\n",
      "1189/1189 [==============================] - 7s 6ms/step - loss: 0.4027 - accuracy: 0.9480 - val_loss: 0.3744 - val_accuracy: 0.9537 - lr: 1.0000e-04\n",
      "Epoch 6/50\n",
      "1189/1189 [==============================] - 7s 6ms/step - loss: 0.3586 - accuracy: 0.9531 - val_loss: 0.3452 - val_accuracy: 0.9553 - lr: 1.0000e-04\n",
      "Epoch 7/50\n",
      "1189/1189 [==============================] - 7s 6ms/step - loss: 0.3237 - accuracy: 0.9583 - val_loss: 0.3220 - val_accuracy: 0.9539 - lr: 1.0000e-04\n",
      "Epoch 8/50\n",
      "1189/1189 [==============================] - 7s 6ms/step - loss: 0.2939 - accuracy: 0.9618 - val_loss: 0.3046 - val_accuracy: 0.9546 - lr: 1.0000e-04\n",
      "Epoch 9/50\n",
      "1189/1189 [==============================] - 7s 6ms/step - loss: 0.2660 - accuracy: 0.9658 - val_loss: 0.2939 - val_accuracy: 0.9544 - lr: 1.0000e-04\n",
      "Epoch 10/50\n",
      "1189/1189 [==============================] - 7s 6ms/step - loss: 0.2474 - accuracy: 0.9678 - val_loss: 0.2785 - val_accuracy: 0.9553 - lr: 1.0000e-04\n",
      "Epoch 11/50\n",
      "1189/1189 [==============================] - 7s 6ms/step - loss: 0.2274 - accuracy: 0.9722 - val_loss: 0.2731 - val_accuracy: 0.9546 - lr: 1.0000e-04\n",
      "Epoch 12/50\n",
      "1189/1189 [==============================] - 7s 6ms/step - loss: 0.2066 - accuracy: 0.9758 - val_loss: 0.2677 - val_accuracy: 0.9553 - lr: 1.0000e-04\n",
      "Epoch 13/50\n",
      "1189/1189 [==============================] - 7s 6ms/step - loss: 0.1944 - accuracy: 0.9777 - val_loss: 0.2644 - val_accuracy: 0.9563 - lr: 1.0000e-04\n",
      "Epoch 14/50\n",
      "1189/1189 [==============================] - 7s 6ms/step - loss: 0.1779 - accuracy: 0.9810 - val_loss: 0.2588 - val_accuracy: 0.9566 - lr: 1.0000e-04\n",
      "Epoch 15/50\n",
      "1189/1189 [==============================] - 7s 6ms/step - loss: 0.1694 - accuracy: 0.9816 - val_loss: 0.2592 - val_accuracy: 0.9558 - lr: 1.0000e-04\n",
      "Epoch 16/50\n",
      "1189/1189 [==============================] - 7s 6ms/step - loss: 0.1564 - accuracy: 0.9844 - val_loss: 0.2595 - val_accuracy: 0.9565 - lr: 1.0000e-04\n",
      "Epoch 17/50\n",
      "1189/1189 [==============================] - 7s 6ms/step - loss: 0.1466 - accuracy: 0.9867 - val_loss: 0.2601 - val_accuracy: 0.9557 - lr: 5.0000e-05\n",
      "1/1 [==============================] - 0s 111ms/step\n",
      "INFO:tensorflow:Assets written to: C:\\Users\\pc\\AppData\\Local\\Temp\\tmpq2tdhizr\\model\\data\\model\\assets\n"
     ]
    },
    {
     "name": "stderr",
     "output_type": "stream",
     "text": [
      "INFO:tensorflow:Assets written to: C:\\Users\\pc\\AppData\\Local\\Temp\\tmpq2tdhizr\\model\\data\\model\\assets\n"
     ]
    },
    {
     "name": "stdout",
     "output_type": "stream",
     "text": [
      "1486/1486 [==============================] - 3s 2ms/step\n",
      "Accuracy Train: 0.9888122476446837\n",
      "372/372 [==============================] - 1s 2ms/step\n",
      "Accuracy Test: 0.9575201884253028\n"
     ]
    },
    {
     "data": {
      "image/png": "[encoded data removed]",
      "text/plain": [
       "<Figure size 800x600 with 1 Axes>"
      ]
     },
     "metadata": {},
     "output_type": "display_data"
    },
    {
     "name": "stderr",
     "output_type": "stream",
     "text": [
      "f:\\Anaconda\\envs\\main\\lib\\site-packages\\keras\\src\\engine\\training.py:3000: UserWarning: You are saving your model as an HDF5 file via `model.save()`. This file format is considered legacy. We recommend using instead the native Keras format, e.g. `model.save('my_model.keras')`.\n",
      "  saving_api.save_model(\n",
      "2024/10/16 03:41:31 WARNING mlflow.tensorflow: You are saving a TensorFlow Core model or Keras model without a signature. Inference with mlflow.pyfunc.spark_udf() will not work unless the model's pyfunc representation accepts pandas DataFrames as inference inputs.\n"
     ]
    },
    {
     "name": "stdout",
     "output_type": "stream",
     "text": [
      "INFO:tensorflow:Assets written to: C:\\Users\\pc\\AppData\\Local\\Temp\\tmp5ub06z_1\\model\\data\\model\\assets\n"
     ]
    },
    {
     "name": "stderr",
     "output_type": "stream",
     "text": [
      "INFO:tensorflow:Assets written to: C:\\Users\\pc\\AppData\\Local\\Temp\\tmp5ub06z_1\\model\\data\\model\\assets\n",
      "2024/10/16 03:41:38 WARNING mlflow.models.model: Model logged without a signature and input example. Please set `input_example` parameter when logging the model to auto infer the model signature.\n",
      "2024/10/16 03:41:39 INFO mlflow.tracking._tracking_service.client: 🏃 View run Neural Network 2 at: http://localhost:5000/#/experiments/0/runs/b8363f80b14d4d8ea0116b4c3c1e461a.\n",
      "2024/10/16 03:41:39 INFO mlflow.tracking._tracking_service.client: 🧪 View experiment at: http://localhost:5000/#/experiments/0.\n"
     ]
    }
   ],
   "source": [
    "with mlflow.start_run(run_name=\"Neural Network 2\"):\n",
    "    learning_rate = 0.0001\n",
    "    batch_size = 32\n",
    "    epochs = 50\n",
    "    mlflow.log_param(\"learning_rate\", learning_rate)\n",
    "    mlflow.log_param(\"batch_size\", batch_size)\n",
    "    mlflow.log_param(\"epochs\", epochs)\n",
    "\n",
    "    model = Sequential()\n",
    "    model.add(Dense(512, input_dim=X_train.shape[1], activation='relu', kernel_regularizer=regularizers.l2(0.001)))\n",
    "    model.add(BatchNormalization())\n",
    "    model.add(Dropout(0.3))\n",
    "    model.add(Dense(256, activation='relu'))\n",
    "    model.add(BatchNormalization())\n",
    "    model.add(Dropout(0.3))\n",
    "    model.add(Dense(128, activation='relu'))\n",
    "    model.add(BatchNormalization())\n",
    "    model.add(Dropout(0.3))\n",
    "    model.add(Dense(1, activation='sigmoid'))\n",
    "\n",
    "    optimizer = Adam(learning_rate=learning_rate)\n",
    "    model.compile(optimizer=optimizer, loss='binary_crossentropy', metrics=['accuracy'])\n",
    "\n",
    "    early_stopping = EarlyStopping(monitor='val_loss', patience=3, restore_best_weights=True)\n",
    "    lr_scheduler = ReduceLROnPlateau(monitor='val_loss', factor=0.5, patience=2, min_lr=0.00001)\n",
    "\n",
    "    history = model.fit(X_train, y_train, epochs=epochs, batch_size=batch_size,\n",
    "                        validation_split=0.2, callbacks=[early_stopping, lr_scheduler], verbose=1)\n",
    "\n",
    "    y_pred_tr_nn = (model.predict(X_train) > 0.5).astype(\"int32\")\n",
    "    train_accuracy = accuracy_score(y_train, y_pred_tr_nn)\n",
    "    mlflow.log_metric(\"train_accuracy\", train_accuracy)\n",
    "    print(\"Accuracy Train:\", train_accuracy)\n",
    "\n",
    "    y_pred_ts_nn = (model.predict(X_test) > 0.5).astype(\"int32\")\n",
    "    test_accuracy = accuracy_score(y_test, y_pred_ts_nn)\n",
    "    mlflow.log_metric(\"test_accuracy\", test_accuracy)\n",
    "    print(\"Accuracy Test:\", test_accuracy)\n",
    "\n",
    "    conf_matrix = confusion_matrix(y_test, y_pred_ts_nn)\n",
    "\n",
    "    plt.figure(figsize=(8, 6))\n",
    "    sns.heatmap(conf_matrix, annot=True, fmt='d', cmap='Blues', cbar=False, xticklabels=['Negative', 'Positive'], yticklabels=['Negative', 'Positive'])\n",
    "    plt.title('Confusion Matrix')\n",
    "    plt.xlabel('Predicted Label')\n",
    "    plt.ylabel('True Label')\n",
    "    \n",
    "    plt.savefig(\"models/NN2_model/confusion_matrix.png\")\n",
    "    plt.show()\n",
    "\n",
    "    mlflow.log_artifact(\"models/NN2_model/confusion_matrix.png\")\n",
    "\n",
    "    model.save(\"NN2_model/sentiment_analysis_model.h5\")\n",
    "    mlflow.tensorflow.log_model(model, artifact_path=\"model\")"
   ]
  },
  {
   "cell_type": "code",
   "execution_count": 33,
   "metadata": {},
   "outputs": [
    {
     "data": {
      "text/html": [
       "<div>\n",
       "<style scoped>\n",
       "    .dataframe tbody tr th:only-of-type {\n",
       "        vertical-align: middle;\n",
       "    }\n",
       "\n",
       "    .dataframe tbody tr th {\n",
       "        vertical-align: top;\n",
       "    }\n",
       "\n",
       "    .dataframe thead th {\n",
       "        text-align: right;\n",
       "    }\n",
       "</style>\n",
       "<table border=\"1\" class=\"dataframe\">\n",
       "  <thead>\n",
       "    <tr style=\"text-align: right;\">\n",
       "      <th></th>\n",
       "      <th>run_id</th>\n",
       "      <th>experiment_id</th>\n",
       "      <th>status</th>\n",
       "      <th>artifact_uri</th>\n",
       "      <th>start_time</th>\n",
       "      <th>end_time</th>\n",
       "      <th>metrics.val_accuracy</th>\n",
       "      <th>metrics.stopped_epoch</th>\n",
       "      <th>metrics.accuracy</th>\n",
       "      <th>metrics.loss</th>\n",
       "      <th>...</th>\n",
       "      <th>params.model_type</th>\n",
       "      <th>params.kernel</th>\n",
       "      <th>params.eval_metric</th>\n",
       "      <th>params.max_iter</th>\n",
       "      <th>tags.mlflow.source.type</th>\n",
       "      <th>tags.mlflow.source.name</th>\n",
       "      <th>tags.mlflow.user</th>\n",
       "      <th>tags.mlflow.log-model.history</th>\n",
       "      <th>tags.mlflow.runName</th>\n",
       "      <th>tags.mlflow.latest_checkpoint_artifact</th>\n",
       "    </tr>\n",
       "  </thead>\n",
       "  <tbody>\n",
       "    <tr>\n",
       "      <th>0</th>\n",
       "      <td>b8363f80b14d4d8ea0116b4c3c1e461a</td>\n",
       "      <td>0</td>\n",
       "      <td>FINISHED</td>\n",
       "      <td>mlflow-artifacts:/0/b8363f80b14d4d8ea0116b4c3c...</td>\n",
       "      <td>2024-10-16 00:39:12.352000+00:00</td>\n",
       "      <td>2024-10-16 00:41:39.112000+00:00</td>\n",
       "      <td>0.956577</td>\n",
       "      <td>16.0</td>\n",
       "      <td>0.980994</td>\n",
       "      <td>0.177901</td>\n",
       "      <td>...</td>\n",
       "      <td>None</td>\n",
       "      <td>None</td>\n",
       "      <td>None</td>\n",
       "      <td>None</td>\n",
       "      <td>LOCAL</td>\n",
       "      <td>f:\\Anaconda\\envs\\main\\lib\\site-packages\\ipyker...</td>\n",
       "      <td>pc</td>\n",
       "      <td>[{\"run_id\": \"b8363f80b14d4d8ea0116b4c3c1e461a\"...</td>\n",
       "      <td>Neural Network 2</td>\n",
       "      <td>checkpoints/latest_checkpoint.h5</td>\n",
       "    </tr>\n",
       "    <tr>\n",
       "      <th>1</th>\n",
       "      <td>fbd8d80ce1514764b6301ee1058a5e74</td>\n",
       "      <td>0</td>\n",
       "      <td>FINISHED</td>\n",
       "      <td>mlflow-artifacts:/0/fbd8d80ce1514764b6301ee105...</td>\n",
       "      <td>2024-10-16 00:37:51.540000+00:00</td>\n",
       "      <td>2024-10-16 00:39:12.207000+00:00</td>\n",
       "      <td>0.954579</td>\n",
       "      <td>NaN</td>\n",
       "      <td>0.990169</td>\n",
       "      <td>0.028115</td>\n",
       "      <td>...</td>\n",
       "      <td>Neural Network Classifier</td>\n",
       "      <td>None</td>\n",
       "      <td>None</td>\n",
       "      <td>None</td>\n",
       "      <td>LOCAL</td>\n",
       "      <td>f:\\Anaconda\\envs\\main\\lib\\site-packages\\ipyker...</td>\n",
       "      <td>pc</td>\n",
       "      <td>[{\"run_id\": \"fbd8d80ce1514764b6301ee1058a5e74\"...</td>\n",
       "      <td>Neural Network 1</td>\n",
       "      <td>checkpoints/latest_checkpoint.h5</td>\n",
       "    </tr>\n",
       "    <tr>\n",
       "      <th>2</th>\n",
       "      <td>f851912880984195a3d1bfeebb2004de</td>\n",
       "      <td>0</td>\n",
       "      <td>FINISHED</td>\n",
       "      <td>mlflow-artifacts:/0/f851912880984195a3d1bfeebb...</td>\n",
       "      <td>2024-10-16 00:24:26.622000+00:00</td>\n",
       "      <td>2024-10-16 00:26:55.026000+00:00</td>\n",
       "      <td>NaN</td>\n",
       "      <td>NaN</td>\n",
       "      <td>NaN</td>\n",
       "      <td>NaN</td>\n",
       "      <td>...</td>\n",
       "      <td>SVM Classifier</td>\n",
       "      <td>linear</td>\n",
       "      <td>None</td>\n",
       "      <td>None</td>\n",
       "      <td>LOCAL</td>\n",
       "      <td>f:\\Anaconda\\envs\\main\\lib\\site-packages\\ipyker...</td>\n",
       "      <td>pc</td>\n",
       "      <td>[{\"run_id\": \"f851912880984195a3d1bfeebb2004de\"...</td>\n",
       "      <td>SVM Classifier Run</td>\n",
       "      <td>None</td>\n",
       "    </tr>\n",
       "    <tr>\n",
       "      <th>3</th>\n",
       "      <td>19dea04e6a424d919702620f6840e6db</td>\n",
       "      <td>0</td>\n",
       "      <td>FINISHED</td>\n",
       "      <td>mlflow-artifacts:/0/19dea04e6a424d919702620f68...</td>\n",
       "      <td>2024-10-16 00:21:23.393000+00:00</td>\n",
       "      <td>2024-10-16 00:21:36.868000+00:00</td>\n",
       "      <td>NaN</td>\n",
       "      <td>NaN</td>\n",
       "      <td>NaN</td>\n",
       "      <td>NaN</td>\n",
       "      <td>...</td>\n",
       "      <td>XGBoost Classifier</td>\n",
       "      <td>None</td>\n",
       "      <td>logloss</td>\n",
       "      <td>None</td>\n",
       "      <td>LOCAL</td>\n",
       "      <td>f:\\Anaconda\\envs\\main\\lib\\site-packages\\ipyker...</td>\n",
       "      <td>pc</td>\n",
       "      <td>[{\"run_id\": \"19dea04e6a424d919702620f6840e6db\"...</td>\n",
       "      <td>XGBoost Classifier Run</td>\n",
       "      <td>None</td>\n",
       "    </tr>\n",
       "    <tr>\n",
       "      <th>4</th>\n",
       "      <td>fe880411f15544138cfe09a952fbc931</td>\n",
       "      <td>0</td>\n",
       "      <td>FINISHED</td>\n",
       "      <td>mlflow-artifacts:/0/fe880411f15544138cfe09a952...</td>\n",
       "      <td>2024-10-15 23:59:17.031000+00:00</td>\n",
       "      <td>2024-10-15 23:59:21.172000+00:00</td>\n",
       "      <td>NaN</td>\n",
       "      <td>NaN</td>\n",
       "      <td>NaN</td>\n",
       "      <td>NaN</td>\n",
       "      <td>...</td>\n",
       "      <td>Logistic Regression</td>\n",
       "      <td>None</td>\n",
       "      <td>None</td>\n",
       "      <td>1000</td>\n",
       "      <td>LOCAL</td>\n",
       "      <td>f:\\Anaconda\\envs\\main\\lib\\site-packages\\ipyker...</td>\n",
       "      <td>pc</td>\n",
       "      <td>[{\"run_id\": \"fe880411f15544138cfe09a952fbc931\"...</td>\n",
       "      <td>Logistic Regression Run</td>\n",
       "      <td>None</td>\n",
       "    </tr>\n",
       "  </tbody>\n",
       "</table>\n",
       "<p>5 rows × 64 columns</p>\n",
       "</div>"
      ],
      "text/plain": [
       "                             run_id experiment_id    status  \\\n",
       "0  b8363f80b14d4d8ea0116b4c3c1e461a             0  FINISHED   \n",
       "1  fbd8d80ce1514764b6301ee1058a5e74             0  FINISHED   \n",
       "2  f851912880984195a3d1bfeebb2004de             0  FINISHED   \n",
       "3  19dea04e6a424d919702620f6840e6db             0  FINISHED   \n",
       "4  fe880411f15544138cfe09a952fbc931             0  FINISHED   \n",
       "\n",
       "                                        artifact_uri  \\\n",
       "0  mlflow-artifacts:/0/b8363f80b14d4d8ea0116b4c3c...   \n",
       "1  mlflow-artifacts:/0/fbd8d80ce1514764b6301ee105...   \n",
       "2  mlflow-artifacts:/0/f851912880984195a3d1bfeebb...   \n",
       "3  mlflow-artifacts:/0/19dea04e6a424d919702620f68...   \n",
       "4  mlflow-artifacts:/0/fe880411f15544138cfe09a952...   \n",
       "\n",
       "                        start_time                         end_time  \\\n",
       "0 2024-10-16 00:39:12.352000+00:00 2024-10-16 00:41:39.112000+00:00   \n",
       "1 2024-10-16 00:37:51.540000+00:00 2024-10-16 00:39:12.207000+00:00   \n",
       "2 2024-10-16 00:24:26.622000+00:00 2024-10-16 00:26:55.026000+00:00   \n",
       "3 2024-10-16 00:21:23.393000+00:00 2024-10-16 00:21:36.868000+00:00   \n",
       "4 2024-10-15 23:59:17.031000+00:00 2024-10-15 23:59:21.172000+00:00   \n",
       "\n",
       "   metrics.val_accuracy  metrics.stopped_epoch  metrics.accuracy  \\\n",
       "0              0.956577                   16.0          0.980994   \n",
       "1              0.954579                    NaN          0.990169   \n",
       "2                   NaN                    NaN               NaN   \n",
       "3                   NaN                    NaN               NaN   \n",
       "4                   NaN                    NaN               NaN   \n",
       "\n",
       "   metrics.loss  ...          params.model_type  params.kernel  \\\n",
       "0      0.177901  ...                       None           None   \n",
       "1      0.028115  ...  Neural Network Classifier           None   \n",
       "2           NaN  ...             SVM Classifier         linear   \n",
       "3           NaN  ...         XGBoost Classifier           None   \n",
       "4           NaN  ...        Logistic Regression           None   \n",
       "\n",
       "   params.eval_metric  params.max_iter  tags.mlflow.source.type  \\\n",
       "0                None             None                    LOCAL   \n",
       "1                None             None                    LOCAL   \n",
       "2                None             None                    LOCAL   \n",
       "3             logloss             None                    LOCAL   \n",
       "4                None             1000                    LOCAL   \n",
       "\n",
       "                             tags.mlflow.source.name  tags.mlflow.user  \\\n",
       "0  f:\\Anaconda\\envs\\main\\lib\\site-packages\\ipyker...                pc   \n",
       "1  f:\\Anaconda\\envs\\main\\lib\\site-packages\\ipyker...                pc   \n",
       "2  f:\\Anaconda\\envs\\main\\lib\\site-packages\\ipyker...                pc   \n",
       "3  f:\\Anaconda\\envs\\main\\lib\\site-packages\\ipyker...                pc   \n",
       "4  f:\\Anaconda\\envs\\main\\lib\\site-packages\\ipyker...                pc   \n",
       "\n",
       "                       tags.mlflow.log-model.history      tags.mlflow.runName  \\\n",
       "0  [{\"run_id\": \"b8363f80b14d4d8ea0116b4c3c1e461a\"...         Neural Network 2   \n",
       "1  [{\"run_id\": \"fbd8d80ce1514764b6301ee1058a5e74\"...         Neural Network 1   \n",
       "2  [{\"run_id\": \"f851912880984195a3d1bfeebb2004de\"...       SVM Classifier Run   \n",
       "3  [{\"run_id\": \"19dea04e6a424d919702620f6840e6db\"...   XGBoost Classifier Run   \n",
       "4  [{\"run_id\": \"fe880411f15544138cfe09a952fbc931\"...  Logistic Regression Run   \n",
       "\n",
       "  tags.mlflow.latest_checkpoint_artifact  \n",
       "0       checkpoints/latest_checkpoint.h5  \n",
       "1       checkpoints/latest_checkpoint.h5  \n",
       "2                                   None  \n",
       "3                                   None  \n",
       "4                                   None  \n",
       "\n",
       "[5 rows x 64 columns]"
      ]
     },
     "execution_count": 33,
     "metadata": {},
     "output_type": "execute_result"
    }
   ],
   "source": [
    "runs_df = mlflow.search_runs()\n",
    "runs_df"
   ]
  },
  {
   "cell_type": "markdown",
   "metadata": {},
   "source": [
    "## LSTM"
   ]
  },
  {
   "cell_type": "code",
   "execution_count": 9,
   "metadata": {},
   "outputs": [
    {
     "data": {
      "text/html": [
       "<div>\n",
       "<style scoped>\n",
       "    .dataframe tbody tr th:only-of-type {\n",
       "        vertical-align: middle;\n",
       "    }\n",
       "\n",
       "    .dataframe tbody tr th {\n",
       "        vertical-align: top;\n",
       "    }\n",
       "\n",
       "    .dataframe thead th {\n",
       "        text-align: right;\n",
       "    }\n",
       "</style>\n",
       "<table border=\"1\" class=\"dataframe\">\n",
       "  <thead>\n",
       "    <tr style=\"text-align: right;\">\n",
       "      <th></th>\n",
       "      <th>text</th>\n",
       "      <th>label</th>\n",
       "      <th>cleaned_Text</th>\n",
       "    </tr>\n",
       "  </thead>\n",
       "  <tbody>\n",
       "    <tr>\n",
       "      <th>0</th>\n",
       "      <td>when modi promised minimum government maximum ...</td>\n",
       "      <td>0.0</td>\n",
       "      <td>modi promised minimum government maximum gover...</td>\n",
       "    </tr>\n",
       "    <tr>\n",
       "      <th>1</th>\n",
       "      <td>what did just say vote for modi  welcome bjp t...</td>\n",
       "      <td>1.0</td>\n",
       "      <td>say vote modi welcome bjp told rahul main camp...</td>\n",
       "    </tr>\n",
       "    <tr>\n",
       "      <th>2</th>\n",
       "      <td>asking his supporters prefix chowkidar their n...</td>\n",
       "      <td>1.0</td>\n",
       "      <td>asking supporter prefix chowkidar name modi gr...</td>\n",
       "    </tr>\n",
       "    <tr>\n",
       "      <th>3</th>\n",
       "      <td>answer who among these the most powerful world...</td>\n",
       "      <td>1.0</td>\n",
       "      <td>answer among powerful world leader today trump...</td>\n",
       "    </tr>\n",
       "    <tr>\n",
       "      <th>4</th>\n",
       "      <td>with upcoming election india saga going import...</td>\n",
       "      <td>1.0</td>\n",
       "      <td>upcoming election india saga going important p...</td>\n",
       "    </tr>\n",
       "    <tr>\n",
       "      <th>...</th>\n",
       "      <td>...</td>\n",
       "      <td>...</td>\n",
       "      <td>...</td>\n",
       "    </tr>\n",
       "    <tr>\n",
       "      <th>107755</th>\n",
       "      <td>engine growth modi unveils indias first 12000 ...</td>\n",
       "      <td>1.0</td>\n",
       "      <td>engine growth modi unveils india first 12000 e...</td>\n",
       "    </tr>\n",
       "    <tr>\n",
       "      <th>107756</th>\n",
       "      <td>modi promised 2014 lok sabha elections that be...</td>\n",
       "      <td>1.0</td>\n",
       "      <td>modi promised 2014 lok sabha election best oro...</td>\n",
       "    </tr>\n",
       "    <tr>\n",
       "      <th>107757</th>\n",
       "      <td>why these 456 crores paid neerav modi not reco...</td>\n",
       "      <td>0.0</td>\n",
       "      <td>456 crore paid neerav modi not recovered congr...</td>\n",
       "    </tr>\n",
       "    <tr>\n",
       "      <th>107758</th>\n",
       "      <td>dear rss terrorist payal gawar what about modi...</td>\n",
       "      <td>0.0</td>\n",
       "      <td>dear rss terrorist payal gawar modi killing 10...</td>\n",
       "    </tr>\n",
       "    <tr>\n",
       "      <th>107759</th>\n",
       "      <td>have you ever listen about like gurukul where ...</td>\n",
       "      <td>1.0</td>\n",
       "      <td>ever listen like gurukul discipline maintained...</td>\n",
       "    </tr>\n",
       "  </tbody>\n",
       "</table>\n",
       "<p>107760 rows × 3 columns</p>\n",
       "</div>"
      ],
      "text/plain": [
       "                                                     text  label  \\\n",
       "0       when modi promised minimum government maximum ...    0.0   \n",
       "1       what did just say vote for modi  welcome bjp t...    1.0   \n",
       "2       asking his supporters prefix chowkidar their n...    1.0   \n",
       "3       answer who among these the most powerful world...    1.0   \n",
       "4       with upcoming election india saga going import...    1.0   \n",
       "...                                                   ...    ...   \n",
       "107755  engine growth modi unveils indias first 12000 ...    1.0   \n",
       "107756  modi promised 2014 lok sabha elections that be...    1.0   \n",
       "107757  why these 456 crores paid neerav modi not reco...    0.0   \n",
       "107758  dear rss terrorist payal gawar what about modi...    0.0   \n",
       "107759  have you ever listen about like gurukul where ...    1.0   \n",
       "\n",
       "                                             cleaned_Text  \n",
       "0       modi promised minimum government maximum gover...  \n",
       "1       say vote modi welcome bjp told rahul main camp...  \n",
       "2       asking supporter prefix chowkidar name modi gr...  \n",
       "3       answer among powerful world leader today trump...  \n",
       "4       upcoming election india saga going important p...  \n",
       "...                                                   ...  \n",
       "107755  engine growth modi unveils india first 12000 e...  \n",
       "107756  modi promised 2014 lok sabha election best oro...  \n",
       "107757  456 crore paid neerav modi not recovered congr...  \n",
       "107758  dear rss terrorist payal gawar modi killing 10...  \n",
       "107759  ever listen like gurukul discipline maintained...  \n",
       "\n",
       "[107760 rows x 3 columns]"
      ]
     },
     "execution_count": 9,
     "metadata": {},
     "output_type": "execute_result"
    }
   ],
   "source": [
    "data=pd.read_csv('datasets/Twitter_Data/preprocessed.csv')\n",
    "data=data.drop(columns='Unnamed: 0')\n",
    "data"
   ]
  },
  {
   "cell_type": "code",
   "execution_count": 11,
   "metadata": {},
   "outputs": [],
   "source": [
    "import re\n",
    "import pandas as pd\n",
    "\n",
    "# Function to remove non-English characters, handling NaN and other data types\n",
    "def remove_non_english(text):\n",
    "    \"\"\"\n",
    "    Removes non-English characters from a text string, handling NaN and other data types.\n",
    "\n",
    "    Args:\n",
    "        text: The input text string.\n",
    "\n",
    "    Returns:\n",
    "        The text string with non-English characters removed.\n",
    "    \"\"\"\n",
    "    # Convert to string and replace NaN with an empty string\n",
    "    text = str(text)\n",
    "    text = text.replace('nan', '')  # Replace NaN values with an empty string\n",
    "    return re.sub(r'[^a-zA-Z0-9\\s]', '', text)\n",
    "\n",
    "# Assuming you have your data in a pandas DataFrame called 'data' with a column 'Text'\n",
    "# Apply the function to the 'Text' column\n",
    "data['cleaned_Text'] = data['cleaned_Text'].apply(remove_non_english)"
   ]
  },
  {
   "cell_type": "code",
   "execution_count": 12,
   "metadata": {},
   "outputs": [
    {
     "name": "stdout",
     "output_type": "stream",
     "text": [
      "Before Tokenization & Padding \n",
      " modi promised minimum government maximum goverce expected begin difficult job reforming state take year get justice state not business exit psus temple\n",
      "\n",
      "After Tokenization & Padding \n",
      " [   1  278  668   30 1804  681  799 1676  871   60  102   43   15   26\n",
      "  926  102    3  397 3664 4747 1142    0    0    0    0    0    0    0\n",
      "    0    0    0    0    0    0    0    0    0    0    0    0    0    0\n",
      "    0    0    0    0    0    0    0    0]\n"
     ]
    }
   ],
   "source": [
    "max_words = 5000\n",
    "max_len=50\n",
    "\n",
    "def tokenize_pad_sequences(text):\n",
    "    '''\n",
    "    This function tokenize the input text into sequnences of intergers and then\n",
    "    pad each sequence to the same length\n",
    "    '''\n",
    "    # Text tokenization\n",
    "    tokenizer = Tokenizer(num_words=max_words, lower=True, split=' ')\n",
    "    tokenizer.fit_on_texts(text)\n",
    "    # Transforms text to a sequence of integers\n",
    "    X = tokenizer.texts_to_sequences(text)\n",
    "    # Pad sequences to the same length\n",
    "    X = pad_sequences(X, padding='post', maxlen=max_len)\n",
    "    # return sequences\n",
    "    return X, tokenizer\n",
    "\n",
    "print('Before Tokenization & Padding \\n', data['cleaned_Text'][0])\n",
    "X, tokenizer = tokenize_pad_sequences(data['cleaned_Text'])\n",
    "print('\\nAfter Tokenization & Padding \\n', X[0])"
   ]
  },
  {
   "cell_type": "code",
   "execution_count": 13,
   "metadata": {},
   "outputs": [],
   "source": [
    "import pickle\n",
    "\n",
    "# saving\n",
    "with open('tokenizer.pickle', 'wb') as handle:\n",
    "    pickle.dump(tokenizer, handle, protocol=pickle.HIGHEST_PROTOCOL)\n",
    "\n",
    "# loading\n",
    "with open('tokenizer.pickle', 'rb') as handle:\n",
    "    tokenizer = pickle.load(handle)"
   ]
  },
  {
   "cell_type": "code",
   "execution_count": 14,
   "metadata": {},
   "outputs": [],
   "source": [
    "import keras.backend as K\n",
    "\n",
    "def f1_score(precision, recall):\n",
    "    ''' Function to calculate f1 score '''\n",
    "    \n",
    "    f1_val = 2*(precision*recall)/(precision+recall+K.epsilon())\n",
    "    return f1_val"
   ]
  },
  {
   "cell_type": "code",
   "execution_count": 15,
   "metadata": {},
   "outputs": [
    {
     "name": "stdout",
     "output_type": "stream",
     "text": [
      "Train Set -> (64656, 50) (64656, 2)\n",
      "Validation Set -> (21552, 50) (21552, 2)\n",
      "Test Set -> (21552, 50) (21552, 2)\n"
     ]
    }
   ],
   "source": [
    "from sklearn.model_selection import train_test_split\n",
    "y = pd.get_dummies(data['label'])\n",
    "X_train, X_test, y_train, y_test = train_test_split(X, y, test_size=0.2, random_state=1)\n",
    "X_train, X_val, y_train, y_val = train_test_split(X_train, y_train, test_size=0.25, random_state=1)\n",
    "print('Train Set ->', X_train.shape, y_train.shape)\n",
    "print('Validation Set ->', X_val.shape, y_val.shape)\n",
    "print('Test Set ->', X_test.shape, y_test.shape)"
   ]
  },
  {
   "cell_type": "code",
   "execution_count": 16,
   "metadata": {},
   "outputs": [
    {
     "name": "stderr",
     "output_type": "stream",
     "text": [
      "f:\\Anaconda\\envs\\main\\lib\\site-packages\\keras\\src\\optimizers\\legacy\\gradient_descent.py:114: UserWarning: The `lr` argument is deprecated, use `learning_rate` instead.\n",
      "  super().__init__(name, **kwargs)\n"
     ]
    }
   ],
   "source": [
    "# Parameters\n",
    "vocab_size = 5000\n",
    "embedding_size = 32\n",
    "epochs = 20\n",
    "learning_rate = 0.01\n",
    "decay_rate = learning_rate / epochs\n",
    "momentum = 0.9\n",
    "batch_size = 64\n",
    "dataset_name = \"Your_Dataset_Name\"\n",
    "\n",
    "# Create SGD optimizer\n",
    "sgd = SGD(lr=learning_rate, momentum=momentum, decay=decay_rate, nesterov=False)\n",
    "\n",
    "# Build model\n",
    "model = Sequential()\n",
    "model.add(Embedding(vocab_size, embedding_size, input_length=max_len))\n",
    "model.add(Conv1D(filters=32, kernel_size=3, padding='same', activation='relu'))\n",
    "model.add(MaxPooling1D(pool_size=2))\n",
    "model.add(Bidirectional(LSTM(32, return_sequences=True)))\n",
    "model.add(Bidirectional(LSTM(32)))\n",
    "model.add(Dropout(0.4))\n",
    "model.add(Dense(2, activation='softmax'))\n",
    "\n",
    "# Compile model\n",
    "model.compile(loss='categorical_crossentropy', optimizer=sgd, \n",
    "              metrics=['accuracy', Precision(), Recall()])"
   ]
  },
  {
   "cell_type": "code",
   "execution_count": 17,
   "metadata": {},
   "outputs": [
    {
     "name": "stderr",
     "output_type": "stream",
     "text": [
      "2024/10/16 08:05:57 WARNING mlflow.tensorflow: Failed to log training dataset information to MLflow Tracking. Reason: 'DataFrame' object has no attribute 'flatten'\n"
     ]
    },
    {
     "name": "stdout",
     "output_type": "stream",
     "text": [
      "Epoch 1/20\n",
      "   6/1011 [..............................] - ETA: 24s - loss: 0.6834 - accuracy: 0.6016 - precision: 0.6016 - recall: 0.6016  WARNING:tensorflow:Callback method `on_train_batch_end` is slow compared to the batch time (batch time: 0.0230s vs `on_train_batch_end` time: 0.0316s). Check your callbacks.\n",
      "1011/1011 [==============================] - 34s 28ms/step - loss: 0.6352 - accuracy: 0.6695 - precision: 0.6695 - recall: 0.6695 - val_loss: 0.6321 - val_accuracy: 0.6723 - val_precision: 0.6723 - val_recall: 0.6723\n",
      "Epoch 2/20\n",
      "   1/1011 [..............................] - ETA: 25s - loss: 0.5742 - accuracy: 0.7500 - precision: 0.7500 - recall: 0.7500"
     ]
    },
    {
     "name": "stderr",
     "output_type": "stream",
     "text": [
      "f:\\Anaconda\\envs\\main\\lib\\site-packages\\keras\\src\\engine\\training.py:3000: UserWarning: You are saving your model as an HDF5 file via `model.save()`. This file format is considered legacy. We recommend using instead the native Keras format, e.g. `model.save('my_model.keras')`.\n",
      "  saving_api.save_model(\n"
     ]
    },
    {
     "name": "stdout",
     "output_type": "stream",
     "text": [
      "1011/1011 [==============================] - 23s 23ms/step - loss: 0.6338 - accuracy: 0.6700 - precision: 0.6700 - recall: 0.6700 - val_loss: 0.6314 - val_accuracy: 0.6723 - val_precision: 0.6723 - val_recall: 0.6723\n",
      "Epoch 3/20\n",
      "1011/1011 [==============================] - 24s 24ms/step - loss: 0.6330 - accuracy: 0.6700 - precision: 0.6700 - recall: 0.6700 - val_loss: 0.6315 - val_accuracy: 0.6723 - val_precision: 0.6723 - val_recall: 0.6723\n",
      "Epoch 4/20\n",
      "1011/1011 [==============================] - 24s 24ms/step - loss: 0.6321 - accuracy: 0.6700 - precision: 0.6700 - recall: 0.6700 - val_loss: 0.6302 - val_accuracy: 0.6723 - val_precision: 0.6723 - val_recall: 0.6723\n",
      "Epoch 5/20\n",
      "1011/1011 [==============================] - 24s 24ms/step - loss: 0.6310 - accuracy: 0.6700 - precision: 0.6700 - recall: 0.6700 - val_loss: 0.6288 - val_accuracy: 0.6723 - val_precision: 0.6723 - val_recall: 0.6723\n",
      "Epoch 6/20\n",
      "1011/1011 [==============================] - 26s 25ms/step - loss: 0.6293 - accuracy: 0.6700 - precision: 0.6700 - recall: 0.6700 - val_loss: 0.6260 - val_accuracy: 0.6723 - val_precision: 0.6723 - val_recall: 0.6723\n",
      "Epoch 7/20\n",
      "1011/1011 [==============================] - 26s 26ms/step - loss: 0.6239 - accuracy: 0.6700 - precision: 0.6700 - recall: 0.6700 - val_loss: 0.6173 - val_accuracy: 0.6723 - val_precision: 0.6723 - val_recall: 0.6723\n",
      "Epoch 8/20\n",
      "1011/1011 [==============================] - 25s 25ms/step - loss: 0.5980 - accuracy: 0.6771 - precision: 0.6771 - recall: 0.6771 - val_loss: 0.5602 - val_accuracy: 0.6856 - val_precision: 0.6856 - val_recall: 0.6856\n",
      "Epoch 9/20\n",
      "1011/1011 [==============================] - 24s 24ms/step - loss: 0.5037 - accuracy: 0.7464 - precision: 0.7464 - recall: 0.7464 - val_loss: 0.4379 - val_accuracy: 0.7973 - val_precision: 0.7973 - val_recall: 0.7973\n",
      "Epoch 10/20\n",
      "1011/1011 [==============================] - 25s 25ms/step - loss: 0.3932 - accuracy: 0.8238 - precision: 0.8238 - recall: 0.8238 - val_loss: 0.3613 - val_accuracy: 0.8378 - val_precision: 0.8378 - val_recall: 0.8378\n",
      "Epoch 11/20\n",
      "1011/1011 [==============================] - 25s 25ms/step - loss: 0.3362 - accuracy: 0.8583 - precision: 0.8583 - recall: 0.8583 - val_loss: 0.3218 - val_accuracy: 0.8660 - val_precision: 0.8660 - val_recall: 0.8660\n",
      "Epoch 12/20\n",
      "1011/1011 [==============================] - 25s 25ms/step - loss: 0.2946 - accuracy: 0.8808 - precision: 0.8808 - recall: 0.8808 - val_loss: 0.3122 - val_accuracy: 0.8735 - val_precision: 0.8735 - val_recall: 0.8735\n",
      "Epoch 13/20\n",
      "1011/1011 [==============================] - 26s 25ms/step - loss: 0.2693 - accuracy: 0.8938 - precision: 0.8938 - recall: 0.8938 - val_loss: 0.2820 - val_accuracy: 0.8862 - val_precision: 0.8862 - val_recall: 0.8862\n",
      "Epoch 14/20\n",
      "1011/1011 [==============================] - 26s 26ms/step - loss: 0.2542 - accuracy: 0.8992 - precision: 0.8992 - recall: 0.8992 - val_loss: 0.2781 - val_accuracy: 0.8839 - val_precision: 0.8839 - val_recall: 0.8839\n",
      "Epoch 15/20\n",
      "1011/1011 [==============================] - 26s 26ms/step - loss: 0.2381 - accuracy: 0.9072 - precision: 0.9072 - recall: 0.9072 - val_loss: 0.2746 - val_accuracy: 0.8859 - val_precision: 0.8859 - val_recall: 0.8859\n",
      "Epoch 16/20\n",
      "1011/1011 [==============================] - 26s 26ms/step - loss: 0.2308 - accuracy: 0.9104 - precision: 0.9104 - recall: 0.9104 - val_loss: 0.2648 - val_accuracy: 0.8924 - val_precision: 0.8924 - val_recall: 0.8924\n",
      "Epoch 17/20\n",
      "1011/1011 [==============================] - 26s 25ms/step - loss: 0.2200 - accuracy: 0.9157 - precision: 0.9157 - recall: 0.9157 - val_loss: 0.2602 - val_accuracy: 0.8931 - val_precision: 0.8931 - val_recall: 0.8931\n",
      "Epoch 18/20\n",
      "1011/1011 [==============================] - 26s 26ms/step - loss: 0.2147 - accuracy: 0.9187 - precision: 0.9187 - recall: 0.9187 - val_loss: 0.3008 - val_accuracy: 0.8718 - val_precision: 0.8718 - val_recall: 0.8718\n",
      "Epoch 19/20\n",
      "1011/1011 [==============================] - 28s 28ms/step - loss: 0.2056 - accuracy: 0.9225 - precision: 0.9225 - recall: 0.9225 - val_loss: 0.2543 - val_accuracy: 0.8976 - val_precision: 0.8976 - val_recall: 0.8976\n",
      "Epoch 20/20\n",
      "1011/1011 [==============================] - 32s 31ms/step - loss: 0.2004 - accuracy: 0.9245 - precision: 0.9245 - recall: 0.9245 - val_loss: 0.2625 - val_accuracy: 0.8956 - val_precision: 0.8956 - val_recall: 0.8956\n",
      "1/1 [==============================] - 2s 2s/step\n",
      "INFO:tensorflow:Assets written to: C:\\Users\\pc\\AppData\\Local\\Temp\\tmpoa5cuirm\\model\\data\\model\\assets\n"
     ]
    },
    {
     "name": "stderr",
     "output_type": "stream",
     "text": [
      "INFO:tensorflow:Assets written to: C:\\Users\\pc\\AppData\\Local\\Temp\\tmpoa5cuirm\\model\\data\\model\\assets\n",
      "f:\\Anaconda\\envs\\main\\lib\\site-packages\\keras\\src\\engine\\training.py:3000: UserWarning: You are saving your model as an HDF5 file via `model.save()`. This file format is considered legacy. We recommend using instead the native Keras format, e.g. `model.save('my_model.keras')`.\n",
      "  saving_api.save_model(\n",
      "2024/10/16 08:15:46 WARNING mlflow.tensorflow: You are saving a TensorFlow Core model or Keras model without a signature. Inference with mlflow.pyfunc.spark_udf() will not work unless the model's pyfunc representation accepts pandas DataFrames as inference inputs.\n"
     ]
    },
    {
     "name": "stdout",
     "output_type": "stream",
     "text": [
      "\n",
      "Accuracy  : 0.8996\n",
      "Precision : 0.8996\n",
      "Recall    : 0.8996\n",
      "F1 Score  : 0.8996\n",
      "INFO:tensorflow:Assets written to: C:\\Users\\pc\\AppData\\Local\\Temp\\tmpwlt6dur1\\model\\data\\model\\assets\n"
     ]
    },
    {
     "name": "stderr",
     "output_type": "stream",
     "text": [
      "INFO:tensorflow:Assets written to: C:\\Users\\pc\\AppData\\Local\\Temp\\tmpwlt6dur1\\model\\data\\model\\assets\n",
      "2024/10/16 08:16:17 WARNING mlflow.models.model: Model logged without a signature and input example. Please set `input_example` parameter when logging the model to auto infer the model signature.\n"
     ]
    },
    {
     "name": "stdout",
     "output_type": "stream",
     "text": [
      "674/674 [==============================] - 5s 7ms/step\n"
     ]
    },
    {
     "name": "stderr",
     "output_type": "stream",
     "text": [
      "2024/10/16 08:16:23 INFO mlflow.tracking._tracking_service.client: 🏃 View run LSTM Model at: http://localhost:5000/#/experiments/0/runs/f8b0e6e1aee14f4f89c1b68e3e56bfc8.\n",
      "2024/10/16 08:16:23 INFO mlflow.tracking._tracking_service.client: 🧪 View experiment at: http://localhost:5000/#/experiments/0.\n"
     ]
    },
    {
     "ename": "AttributeError",
     "evalue": "'DataFrame' object has no attribute 'argmax'",
     "output_type": "error",
     "traceback": [
      "\u001b[1;31m---------------------------------------------------------------------------\u001b[0m",
      "\u001b[1;31mAttributeError\u001b[0m                            Traceback (most recent call last)",
      "\u001b[1;32m~\\AppData\\Local\\Temp\\ipykernel_15836\\3785223031.py\u001b[0m in \u001b[0;36m?\u001b[1;34m()\u001b[0m\n\u001b[0;32m     35\u001b[0m     \u001b[0mmlflow\u001b[0m\u001b[1;33m.\u001b[0m\u001b[0mkeras\u001b[0m\u001b[1;33m.\u001b[0m\u001b[0mlog_model\u001b[0m\u001b[1;33m(\u001b[0m\u001b[0mmodel\u001b[0m\u001b[1;33m,\u001b[0m \u001b[1;34m\"lstm\"\u001b[0m\u001b[1;33m)\u001b[0m\u001b[1;33m\u001b[0m\u001b[1;33m\u001b[0m\u001b[0m\n\u001b[0;32m     36\u001b[0m \u001b[1;33m\u001b[0m\u001b[0m\n\u001b[0;32m     37\u001b[0m     \u001b[1;31m# Generate confusion matrix\u001b[0m\u001b[1;33m\u001b[0m\u001b[1;33m\u001b[0m\u001b[0m\n\u001b[0;32m     38\u001b[0m     \u001b[0my_pred\u001b[0m \u001b[1;33m=\u001b[0m \u001b[0mmodel\u001b[0m\u001b[1;33m.\u001b[0m\u001b[0mpredict\u001b[0m\u001b[1;33m(\u001b[0m\u001b[0mX_test\u001b[0m\u001b[1;33m)\u001b[0m\u001b[1;33m.\u001b[0m\u001b[0margmax\u001b[0m\u001b[1;33m(\u001b[0m\u001b[0maxis\u001b[0m\u001b[1;33m=\u001b[0m\u001b[1;36m1\u001b[0m\u001b[1;33m)\u001b[0m\u001b[1;33m\u001b[0m\u001b[1;33m\u001b[0m\u001b[0m\n\u001b[1;32m---> 39\u001b[1;33m     \u001b[0my_true\u001b[0m \u001b[1;33m=\u001b[0m \u001b[0my_test\u001b[0m\u001b[1;33m.\u001b[0m\u001b[0margmax\u001b[0m\u001b[1;33m(\u001b[0m\u001b[0maxis\u001b[0m\u001b[1;33m=\u001b[0m\u001b[1;36m1\u001b[0m\u001b[1;33m)\u001b[0m\u001b[1;33m\u001b[0m\u001b[1;33m\u001b[0m\u001b[0m\n\u001b[0m\u001b[0;32m     40\u001b[0m     \u001b[0mconf_matrix\u001b[0m \u001b[1;33m=\u001b[0m \u001b[0mconfusion_matrix\u001b[0m\u001b[1;33m(\u001b[0m\u001b[0my_true\u001b[0m\u001b[1;33m,\u001b[0m \u001b[0my_pred\u001b[0m\u001b[1;33m)\u001b[0m\u001b[1;33m\u001b[0m\u001b[1;33m\u001b[0m\u001b[0m\n\u001b[0;32m     41\u001b[0m \u001b[1;33m\u001b[0m\u001b[0m\n\u001b[0;32m     42\u001b[0m     \u001b[1;31m# Plot confusion matrix\u001b[0m\u001b[1;33m\u001b[0m\u001b[1;33m\u001b[0m\u001b[0m\n",
      "\u001b[1;32mf:\\Anaconda\\envs\\main\\lib\\site-packages\\pandas\\core\\generic.py\u001b[0m in \u001b[0;36m?\u001b[1;34m(self, name)\u001b[0m\n\u001b[0;32m   6295\u001b[0m             \u001b[1;32mand\u001b[0m \u001b[0mname\u001b[0m \u001b[1;32mnot\u001b[0m \u001b[1;32min\u001b[0m \u001b[0mself\u001b[0m\u001b[1;33m.\u001b[0m\u001b[0m_accessors\u001b[0m\u001b[1;33m\u001b[0m\u001b[1;33m\u001b[0m\u001b[0m\n\u001b[0;32m   6296\u001b[0m             \u001b[1;32mand\u001b[0m \u001b[0mself\u001b[0m\u001b[1;33m.\u001b[0m\u001b[0m_info_axis\u001b[0m\u001b[1;33m.\u001b[0m\u001b[0m_can_hold_identifiers_and_holds_name\u001b[0m\u001b[1;33m(\u001b[0m\u001b[0mname\u001b[0m\u001b[1;33m)\u001b[0m\u001b[1;33m\u001b[0m\u001b[1;33m\u001b[0m\u001b[0m\n\u001b[0;32m   6297\u001b[0m         ):\n\u001b[0;32m   6298\u001b[0m             \u001b[1;32mreturn\u001b[0m \u001b[0mself\u001b[0m\u001b[1;33m[\u001b[0m\u001b[0mname\u001b[0m\u001b[1;33m]\u001b[0m\u001b[1;33m\u001b[0m\u001b[1;33m\u001b[0m\u001b[0m\n\u001b[1;32m-> 6299\u001b[1;33m         \u001b[1;32mreturn\u001b[0m \u001b[0mobject\u001b[0m\u001b[1;33m.\u001b[0m\u001b[0m__getattribute__\u001b[0m\u001b[1;33m(\u001b[0m\u001b[0mself\u001b[0m\u001b[1;33m,\u001b[0m \u001b[0mname\u001b[0m\u001b[1;33m)\u001b[0m\u001b[1;33m\u001b[0m\u001b[1;33m\u001b[0m\u001b[0m\n\u001b[0m",
      "\u001b[1;31mAttributeError\u001b[0m: 'DataFrame' object has no attribute 'argmax'"
     ]
    }
   ],
   "source": [
    "# Start an MLflow run\n",
    "with mlflow.start_run(run_name=\"LSTM Model\"):\n",
    "\n",
    "    # Log model parameters\n",
    "    mlflow.log_param(\"model_type\", \"LSTM Classifier\")\n",
    "    mlflow.log_param(\"optimizer\", \"SGD\")\n",
    "    mlflow.log_param(\"epochs\", epochs)\n",
    "    mlflow.log_param(\"batch_size\", batch_size)\n",
    "    mlflow.log_param(\"learning_rate\", learning_rate)\n",
    "    mlflow.log_param(\"momentum\", momentum)\n",
    "    mlflow.log_param(\"dataset\", 'raw twitter dataset')\n",
    "\n",
    "    # Train the model\n",
    "    history = model.fit(X_train, y_train,\n",
    "                        validation_data=(X_val, y_val),\n",
    "                        batch_size=batch_size, epochs=epochs, verbose=1)\n",
    "\n",
    "    # Evaluate the model\n",
    "    loss, accuracy, precision, recall = model.evaluate(X_test, y_test, verbose=0)\n",
    "\n",
    "    # Log metrics\n",
    "    f1 = (2 * precision * recall) / (precision + recall)\n",
    "    mlflow.log_metric(\"accuracy\", accuracy)\n",
    "    mlflow.log_metric(\"precision\", precision)\n",
    "    mlflow.log_metric(\"recall\", recall)\n",
    "    mlflow.log_metric(\"f1_score\", f1)\n",
    "\n",
    "    print(f\"\\nAccuracy  : {accuracy:.4f}\")\n",
    "    print(f\"Precision : {precision:.4f}\")\n",
    "    print(f\"Recall    : {recall:.4f}\")\n",
    "    print(f\"F1 Score  : {f1:.4f}\")\n",
    "\n",
    "    # Save the model and log it to MLflow\n",
    "    model.save('lstm/lstm.h5')\n",
    "    mlflow.keras.log_model(model, \"lstm\")\n",
    "\n",
    "    if y_test.shape[1] > 1:\n",
    "        y_true = np.argmax(y_test.values, axis=1)\n",
    "    else:\n",
    "        y_true = y_test.values  # Use the class labels directly\n",
    "\n",
    "    y_pred = np.argmax(model.predict(X_test), axis=1)\n",
    "    conf_matrix = confusion_matrix(y_true, y_pred)\n",
    "\n",
    "    # Plot confusion matrix\n",
    "    plt.figure(figsize=(8, 6))\n",
    "    sns.heatmap(conf_matrix, annot=True, fmt='d', cmap='Blues', cbar=False)\n",
    "    plt.title('Confusion Matrix')\n",
    "    plt.xlabel('Predicted Label')\n",
    "    plt.ylabel('True Label')\n",
    "    plt.savefig(\"lstm/confusion_matrix_lstm.png\")  # Save plot locally\n",
    "\n",
    "    # Log confusion matrix as artifact\n",
    "    mlflow.log_artifact(\"lstm/confusion_matrix_lstm.png\")\n",
    "\n",
    "    # End the MLflow run\n",
    "    mlflow.end_run()\n",
    "\n",
    "print(\"Run completed and logged to MLflow.\")"
   ]
  },
  {
   "cell_type": "code",
   "execution_count": 30,
   "metadata": {},
   "outputs": [
    {
     "name": "stdout",
     "output_type": "stream",
     "text": [
      "674/674 [==============================] - 5s 7ms/step\n"
     ]
    },
    {
     "data": {
      "image/png": "[encoded data removed]",
      "text/plain": [
       "<Figure size 800x600 with 1 Axes>"
      ]
     },
     "metadata": {},
     "output_type": "display_data"
    }
   ],
   "source": [
    "import numpy as np\n",
    "\n",
    "# Assuming y_test is one-hot encoded\n",
    "if y_test.shape[1] > 1:\n",
    "    y_true = np.argmax(y_test.values, axis=1)\n",
    "else:\n",
    "    y_true = y_test.values  # Use the class labels directly\n",
    "\n",
    "y_pred = np.argmax(model.predict(X_test), axis=1)\n",
    "\n",
    "# Now proceed with the confusion matrix\n",
    "conf_matrix = confusion_matrix(y_true, y_pred)\n",
    "\n",
    "# Plot confusion matrix\n",
    "plt.figure(figsize=(8, 6))\n",
    "sns.heatmap(conf_matrix, annot=True, fmt='d', cmap='Blues', cbar=False)\n",
    "plt.title('Confusion Matrix')\n",
    "plt.xlabel('Predicted Label')\n",
    "plt.ylabel('True Label')\n",
    "plt.savefig(\"confusion_matrix_lstm.png\")  # Save plot locally"
   ]
  },
  {
   "cell_type": "code",
   "execution_count": 32,
   "metadata": {},
   "outputs": [
    {
     "name": "stdout",
     "output_type": "stream",
     "text": [
      "0.8996380846325167\n"
     ]
    }
   ],
   "source": [
    "test_accuracy= accuracy_score(y_true, y_pred)\n",
    "print(test_accuracy)"
   ]
  },
  {
   "cell_type": "code",
   "execution_count": 33,
   "metadata": {},
   "outputs": [],
   "source": [
    "from mlflow.tracking import MlflowClient\n",
    "\n",
    "client = MlflowClient()\n",
    "\n",
    "# Log the test accuracy metric for the existing run\n",
    "client.log_metric('f8b0e6e1aee14f4f89c1b68e3e56bfc8', 'test_accuracy', test_accuracy)"
   ]
  }
 ],
 "metadata": {
  "kernelspec": {
   "display_name": "Python 3",
   "language": "python",
   "name": "python3"
  },
  "language_info": {
   "codemirror_mode": {
    "name": "ipython",
    "version": 3
   },
   "file_extension": ".py",
   "mimetype": "text/x-python",
   "name": "python",
   "nbconvert_exporter": "python",
   "pygments_lexer": "ipython3",
   "version": "3.10.15"
  }
 },
 "nbformat": 4,
 "nbformat_minor": 2
}
